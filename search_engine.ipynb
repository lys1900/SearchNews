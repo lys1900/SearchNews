{
 "cells": [
  {
   "cell_type": "markdown",
   "metadata": {
    "collapsed": true
   },
   "source": [
    "NewsSearch, \n",
    "\n",
    "Powered with NewsAPI,\n",
    "\n",
    "Yunshu Li, July 2020"
   ]
  },
  {
   "cell_type": "code",
   "execution_count": null,
   "metadata": {
    "collapsed": true
   },
   "outputs": [],
   "source": [
    "import requests\n",
    "import pandas as pd\n"
   ]
  },
  {
   "cell_type": "markdown",
   "metadata": {
    "collapsed": true
   },
   "source": [
    "Define search inputs\n"
   ]
  },
  {
   "cell_type": "markdown",
   "metadata": {
    "collapsed": true
   },
   "source": [
    "1. Keyword and sources\n",
    "Advanced search is supported here:\n",
    "\n",
    "Surround phrases with quotes (\") for exact match.\n",
    "Prepend words or phrases that must appear with a + symbol. Eg: +bitcoin\n",
    "Prepend words that must not appear with a - symbol. Eg: -bitcoin\n",
    "Alternatively you can use the AND / OR / NOT keywords, and optionally group these with parenthesis. Eg: crypto AND (ethereum OR litecoin) NOT bitcoin.\n"
   ]
  },
  {
   "cell_type": "code",
   "execution_count": null,
   "metadata": {
    "collapsed": true
   },
   "outputs": [],
   "source": [
    "keyword = 'test' #search word\n",
    "sources = 'thestar.com.my, test2.com' #url of sources, may require a few tries (removing http, www etc.)"
   ]
  },
  {
   "cell_type": "markdown",
   "metadata": {
    "collapsed": true
   },
   "source": [
    "2. Other inputs\n"
   ]
  },
  {
   "cell_type": "code",
   "execution_count": null,
   "metadata": {
    "collapsed": true
   },
   "outputs": [],
   "source": [
    "from_date = '2020-07-08' #A date and optional time for the oldest article allowed\n",
    "page_size = 100 #100 is maximum"
   ]
  },
  {
   "cell_type": "markdown",
   "metadata": {
    "collapsed": true
   },
   "source": [
    "Run code to get all news"
   ]
  },
  {
   "cell_type": "code",
   "execution_count": null,
   "metadata": {
    "collapsed": true
   },
   "outputs": [],
   "source": [
    "API_key = \"54065974ae6a417ab8a1f7744ca5f1e7\"\n",
    "requesturl = ('http://newsapi.org/v2/everything?'\n",
    "              'q={}'\n",
    "              '&domains={}'\n",
    "              '&apiKey={}'\n",
    "              '&from={}'\n",
    "              '&pageSize={}').format(keyword, sources, API_key, from_date, page_size)\n",
    "response = requests.get(requesturl)\n",
    "jsonresponse = response.json()\n",
    "stories = [[article['title'], article['url'], article['description'],\n",
    "            article['publishedAt']] for article in jsonresponse['articles']]\n",
    "df = pd.DataFrame(stories, columns=['title','url','description','publishedAt'])\n",
    "print('Results found below')\n",
    "print(df)\n",
    "df.to_csv('SearchResults.csv')"
   ]
  }
 ],
 "metadata": {
  "kernelspec": {
   "display_name": "Python 2",
   "language": "python",
   "name": "python2"
  },
  "language_info": {
   "codemirror_mode": {
    "name": "ipython",
    "version": 2
   },
   "file_extension": ".py",
   "mimetype": "text/x-python",
   "name": "python",
   "nbconvert_exporter": "python",
   "pygments_lexer": "ipython2",
   "version": "2.7.6"
  }
 },
 "nbformat": 4,
 "nbformat_minor": 0
}
